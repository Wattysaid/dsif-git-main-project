{
 "cells": [
  {
   "cell_type": "markdown",
   "metadata": {},
   "source": [
    "# ELVTR Data Science Main Project\n",
    "\n",
    "## Deliverables\n",
    "\n",
    "### 01 Git Repository\n",
    "\n",
    "Include all project code with a README file containing a high-level project description.\n",
    "\n",
    "Example README guide: [Make a README](link-to-readme-guide)\n",
    "\n",
    "### 02 Report\n",
    "\n",
    "* Methodology, approach, and model selection rationale.\n",
    "* Advantages and limitations of the chosen model.\n",
    "* Architecture of the final solution.\n",
    "* Considerations on deployment and scalability of the solution - i.e., how will the model be used in BAU by the business?\n",
    "* Estimated impact/ROI of the project."
   ]
  },
  {
   "cell_type": "markdown",
   "metadata": {},
   "source": [
    "# Data Science in Finance: Lending Club Loan Analysis\n",
    "\n",
    "## Project Overview\n",
    "\n",
    "Lending Club has tasked us with preparing a loan application dataset for analysis and predictive modeling. \n",
    "\n",
    "The key tasks include data cleaning, exploratory data analysis, and building a predictive model for loan classification. An optional component involves building a real-time scoring application.\n",
    "\n",
    "**Project Objectives**:\n",
    "- Clean and preprocess the data.\n",
    "- Perform exploratory data analysis (EDA) to gain insights.\n",
    "- Develop a predictive model for loan application approval.\n",
    "- (Optional) Build a real-time scoring application.\n",
    "\n",
    "**Dataset Description**:\n",
    "The dataset consists of loan application records, including various financial metrics and the application status. The data dictionary is provided for understanding the attributes.\n",
    "\n",
    "**Dataset Path**:\n",
    "- CSV: `data/1-raw/lending-club-2007-2020Q3/Loan_status_2007-2020Q3-100ksample.csv`\n",
    "- Data Dictionary: `data/1-raw/lending-club-2007-2020Q3/LCDataDictionary.xlsx`"
   ]
  },
  {
   "cell_type": "code",
   "execution_count": null,
   "metadata": {},
   "outputs": [],
   "source": [
    "pwd"
   ]
  },
  {
   "cell_type": "markdown",
   "metadata": {},
   "source": [
    "## Importing Required Libraries\n"
   ]
  },
  {
   "cell_type": "code",
   "execution_count": 2,
   "metadata": {},
   "outputs": [],
   "source": [
    "import pandas as pd\n",
    "import numpy as np\n",
    "import matplotlib.pyplot as plt\n",
    "import seaborn as sns\n",
    "\n",
    "# Pandas display settings\n",
    "pd.set_option('display.max_columns', None)\n",
    "pd.set_option('display.max_rows', None)\n",
    "\n",
    "# Plot settings for consistent figure size (A4 landscape top half)\n",
    "FIG_WIDTH = 11.69  # Width\n",
    "FIG_HEIGHT = 4.14  # Height\n",
    "\n",
    "# Set the theme for Seaborn plots\n",
    "sns.set_theme(style='whitegrid')"
   ]
  },
  {
   "cell_type": "markdown",
   "metadata": {},
   "source": [
    "## Load Data Set"
   ]
  },
  {
   "cell_type": "code",
   "execution_count": null,
   "metadata": {},
   "outputs": [],
   "source": [
    "# Load the data xlsx file as a dataframe\n",
    "df = pd.read_csv(\"c:\\\\Users\\\\kiera\\\\OneDrive\\\\Documents\\\\GitHub\\\\dsif-git-main-project\\\\elvtr_main_project\\\\data\\\\raw\\\\Loan_status_2007-2020Q3\\\\Loan_status_2007-2020Q3-100k-Full-Data.csv\")\n",
    "\n",
    "# Clean headers in the existing DataFrame 'df'\n",
    "df.columns = df.columns.str.strip().str.lower().str.replace(\" \", \"_\")\n",
    "\n",
    "# Display cleaned headers\n",
    "print(\"Cleaned headers:\", df.columns.tolist())\n",
    "\n",
    "df.shape"
   ]
  },
  {
   "cell_type": "code",
   "execution_count": null,
   "metadata": {},
   "outputs": [],
   "source": [
    "# Load the data dictionary CSV file as a dataframe\n",
    "df_data_dict = pd.read_excel(\"c:\\\\Users\\\\kiera\\\\OneDrive\\\\Documents\\\\GitHub\\\\dsif-git-main-project\\\\elvtr_main_project\\\\data\\\\raw\\\\Loan_status_2007-2020Q3\\\\LCDataDictionary.xlsx\")\n",
    "\n",
    "# Clean headers in the existing DataFrame 'df'\n",
    "df_data_dict.columns = df_data_dict.columns.str.strip().str.lower().str.replace(\" \", \"_\")\n",
    "\n",
    "# Display cleaned headers\n",
    "print(\"Cleaned headers:\", df_data_dict.columns.tolist())\n",
    "\n",
    "df_data_dict.shape"
   ]
  },
  {
   "cell_type": "code",
   "execution_count": null,
   "metadata": {},
   "outputs": [],
   "source": [
    "# Copies the columns and descriptions from the data dictionary into a data frame for future recall.\n",
    "# Initialize empty lists for LoanStatNew and Description\n",
    "loanstatnew = []\n",
    "description = []\n",
    "\n",
    "# Iterate through each row in the DataFrame and populate lists\n",
    "for _, row in df_data_dict.iterrows():\n",
    "    loanstatnew.append(row['loanstatnew'])\n",
    "    description.append(row['description'])\n",
    "\n",
    "# Apply left-aligned styling to both headers and data cells\n",
    "styled_df_data_dict = df_data_dict.style.set_properties(\n",
    "    **{'text-align': 'left', 'white-space': 'nowrap'}\n",
    ").set_table_styles(\n",
    "    [{'selector': 'th', 'props': [('text-align', 'left')]}]\n",
    ")\n",
    "\n",
    "# Display styled DataFrame\n",
    "styled_df_data_dict\n"
   ]
  },
  {
   "cell_type": "code",
   "execution_count": null,
   "metadata": {},
   "outputs": [],
   "source": [
    "#load the employtment mapping CSV file as a dataframe\n",
    "df_emp_title = pd.read_csv(\"c:\\\\Users\\\\kiera\\\\OneDrive\\\\Documents\\\\GitHub\\\\dsif-git-main-project\\\\elvtr_main_project\\\\data\\\\raw\\\\emp_title_mapping.csv\")\n",
    "\n",
    "# Clean headers in the existing DataFrame\n",
    "df_emp_title.columns = df_emp_title.columns.str.strip().str.lower().str.replace(\" \", \"_\")\n",
    "\n",
    "# Display cleaned headers\n",
    "print(\"Cleaned headers:\", df_emp_title.columns.tolist())\n",
    "\n",
    "df_emp_title.shape"
   ]
  },
  {
   "cell_type": "markdown",
   "metadata": {},
   "source": [
    "After analysing our data dictionary it is possible to class our columns into figurative categories to better organise our analysis. \n",
    "\n",
    "These categories are, for now:\n",
    "\n",
    "- Credit history, \n",
    "- Current Debt and Payment behaviours, \n",
    "- Employement, \n",
    "- Credit inquiries"
   ]
  },
  {
   "cell_type": "code",
   "execution_count": null,
   "metadata": {},
   "outputs": [],
   "source": [
    "# Initialize empty lists for LoanStatNew and Description\n",
    "jobtitle = []\n",
    "job_category = []\n",
    "\n",
    "# Iterate through each row in the DataFrame and populate lists\n",
    "for _, row in df_emp_title.iterrows():\n",
    "    jobtitle.append(row['job_title'])\n",
    "    job_category.append(row['category'])\n",
    "\n",
    "# Apply left-aligned styling to both headers and data cells\n",
    "styled_df_emp_title = df_emp_title.style.set_properties(\n",
    "    **{'text-align': 'left', 'white-space': 'nowrap'}\n",
    ").set_table_styles(\n",
    "    [{'selector': 'th', 'props': [('text-align', 'left')]}]\n",
    ")\n",
    "\n",
    "# Display styled DataFrame\n",
    "styled_df_emp_title"
   ]
  },
  {
   "cell_type": "code",
   "execution_count": null,
   "metadata": {},
   "outputs": [],
   "source": [
    "# Cross table on 'category' in df_emp_title\n",
    "category_crosstab = pd.crosstab(index=df_emp_title['category'], columns='count').sort_values(by='count', ascending=False)\n",
    "\n",
    "# Display the crosstab\n",
    "category_crosstab"
   ]
  },
  {
   "cell_type": "markdown",
   "metadata": {},
   "source": [
    "## Display Basic Data Discovery"
   ]
  },
  {
   "cell_type": "code",
   "execution_count": null,
   "metadata": {},
   "outputs": [],
   "source": [
    "df.info()"
   ]
  },
  {
   "cell_type": "markdown",
   "metadata": {},
   "source": [
    "Our data contains 143 columns and 99999 rows of data. It is comprised of numerical (float, int) and categorical data (object)"
   ]
  },
  {
   "cell_type": "code",
   "execution_count": null,
   "metadata": {},
   "outputs": [],
   "source": [
    "df.head()"
   ]
  },
  {
   "cell_type": "markdown",
   "metadata": {},
   "source": [
    "Let's remove the first two columns but keep id for future reference. We've renamed our df to df_dropped in the process."
   ]
  },
  {
   "cell_type": "code",
   "execution_count": null,
   "metadata": {},
   "outputs": [],
   "source": [
    "# Remove specified columns from df\n",
    "#df = df.drop(df.columns[[0, 1]], axis=1) # remove by index number, good for quick changes but hard to keep track of edits. Keeping for records.\n",
    "df_dropped = df.drop(columns=['unnamed:_0.1', 'unnamed:_0'])\n",
    "\n",
    "\n",
    "# Display the updated DataFrame\n",
    "df_dropped.head()[df_dropped.columns[:3]]"
   ]
  },
  {
   "cell_type": "markdown",
   "metadata": {},
   "source": [
    "The first two columns have been removed succesfully."
   ]
  },
  {
   "cell_type": "code",
   "execution_count": null,
   "metadata": {},
   "outputs": [],
   "source": [
    "df_dropped.describe()"
   ]
  },
  {
   "cell_type": "markdown",
   "metadata": {},
   "source": [
    "Let's start by converting our data into lists for further processing."
   ]
  },
  {
   "cell_type": "code",
   "execution_count": 13,
   "metadata": {},
   "outputs": [],
   "source": [
    "def split_data_frame(features_list, df):\n",
    "    \"\"\"\n",
    "    Splits the provided DataFrame into three lists containing Boolean, Numerical, and Categorical column names.\n",
    "    Converts floats with trailing zeros into integers where appropriate and replaces NaN values \n",
    "    with 0 for integers and 0.00 for floats.\n",
    "\n",
    "    Parameters:\n",
    "    features_list (list): List of column names to be checked.\n",
    "    df (pd.DataFrame): The input DataFrame to split.\n",
    "\n",
    "    Returns:\n",
    "    tuple: A tuple containing three lists (boolean_cols, numerical_cols, categorical_cols).\n",
    "    \"\"\"\n",
    "    boolean_cols, numerical_cols, categorical_cols = [], [], []\n",
    "\n",
    "    # Define acceptable boolean values\n",
    "    acceptable_boolean_values = {0, 1, True, False, 0.0, 1.0}\n",
    "\n",
    "    # Helper function to classify column types\n",
    "    def classify_column(col):\n",
    "        if col not in df.columns:\n",
    "            print(f\"Warning: Column '{col}' not found in DataFrame.\")\n",
    "            return\n",
    "\n",
    "        column_series = df[col]\n",
    "\n",
    "        # Classify Boolean columns\n",
    "        if pd.api.types.is_bool_dtype(column_series) or all(column_series.dropna().isin(acceptable_boolean_values)):\n",
    "            boolean_cols.append(col)\n",
    "        \n",
    "        # Classify Numerical columns\n",
    "        elif pd.api.types.is_numeric_dtype(column_series):\n",
    "            if column_series.dtype == 'float64' and all(column_series.dropna() == column_series.dropna().astype(int)):\n",
    "                df[col] = column_series.fillna(0).astype(int)\n",
    "            else:\n",
    "                df[col] = column_series.fillna(0 if column_series.dtype == 'int64' else 0.00)\n",
    "            numerical_cols.append(col)\n",
    "        \n",
    "        # Classify Categorical columns\n",
    "        else:\n",
    "            categorical_cols.append(col)\n",
    "\n",
    "    # Iterate over each feature to classify\n",
    "    for col in features_list:\n",
    "        classify_column(col)\n",
    "\n",
    "    # Print a summary of column counts\n",
    "    print(f\"Summary of column counts:\")\n",
    "    print(f\"Boolean columns: {len(boolean_cols)}\")\n",
    "    print(f\"Numerical columns: {len(numerical_cols)}\")\n",
    "    print(f\"Categorical columns: {len(categorical_cols)}\")\n",
    "    print(f\"Total features processed: {len(features_list)}\")\n",
    "\n",
    "    return boolean_cols, numerical_cols, categorical_cols\n",
    "\n",
    "# Example usage:\n",
    "# boolean_list, numerical_list, categorical_list = split_data_frame(new_features, df)\n"
   ]
  },
  {
   "cell_type": "markdown",
   "metadata": {},
   "source": [
    "##### Numerical Processing"
   ]
  },
  {
   "cell_type": "code",
   "execution_count": 14,
   "metadata": {},
   "outputs": [],
   "source": [
    "def analyze_numeric_columns(numeric_cols, dataframe):\n",
    "    \"\"\"\n",
    "    Analyze and visualize numeric columns in a DataFrame.\n",
    "\n",
    "    Parameters:\n",
    "    numeric_cols (list): List of numeric column names to analyze.\n",
    "    dataframe (pd.DataFrame): The DataFrame containing the data.\n",
    "    \"\"\"\n",
    "    for column in numeric_cols:\n",
    "        print(f\"\\nSummary Statistics and Analysis for Numeric Column: {column}\")\n",
    "\n",
    "        # Check if the column exists in the DataFrame\n",
    "        if column not in dataframe.columns:\n",
    "            print(f\"Column '{column}' is not found in the DataFrame. Skipping...\")\n",
    "            continue\n",
    "\n",
    "        # Ensure the column is converted to numeric\n",
    "        dataframe.loc[:, column] = pd.to_numeric(dataframe[column], errors='coerce')\n",
    "\n",
    "        # Drop NaN values to ensure we have numeric data for analysis\n",
    "        numeric_data = dataframe[column].dropna()\n",
    "\n",
    "        if numeric_data.empty:\n",
    "            print(f\"No valid numeric data available for column: {column}. Skipping...\")\n",
    "            continue  # Skip the column if there's no valid data\n",
    "\n",
    "        # Calculate z-scores\n",
    "        z_scores = (numeric_data - numeric_data.mean()) / numeric_data.std()\n",
    "\n",
    "        # Calculate IQR\n",
    "        Q1 = numeric_data.quantile(0.25)\n",
    "        Q3 = numeric_data.quantile(0.75)\n",
    "        IQR = Q3 - Q1\n",
    "\n",
    "        # Identify outliers based on z-scores (z > 3 or z < -3)\n",
    "        outliers_z = numeric_data[(z_scores > 3) | (z_scores < -3)]\n",
    "\n",
    "        # Identify outliers based on IQR\n",
    "        lower_bound = Q1 - 1.5 * IQR\n",
    "        upper_bound = Q3 + 1.5 * IQR\n",
    "        outliers_iqr = numeric_data[(numeric_data < lower_bound) | (numeric_data > upper_bound)]\n",
    "\n",
    "        # Create a figure for the distribution and box plot\n",
    "        fig, axs = plt.subplots(1, 2, figsize=(FIG_WIDTH, FIG_HEIGHT))\n",
    "\n",
    "        # Distribution plot (histogram)\n",
    "        sns.histplot(numeric_data, kde=True, bins=10, ax=axs[0])\n",
    "        axs[0].set_title(f'Distribution of {column}')\n",
    "        axs[0].set_xlabel(column)\n",
    "        axs[0].set_ylabel('Frequency')\n",
    "\n",
    "        # Box plot for outlier detection\n",
    "        sns.boxplot(x=numeric_data, ax=axs[1])\n",
    "        axs[1].set_title(f'Box Plot for {column} (Outlier Detection)')\n",
    "        axs[1].set_xlabel(column)\n",
    "\n",
    "        # Adjust layout to prevent overlap\n",
    "        plt.tight_layout()\n",
    "        plt.show()\n",
    "\n",
    "        # Summary Statistics\n",
    "        print(f\"\\nSummary Statistics for Numeric Column '{column}':\")\n",
    "        print(numeric_data.describe())\n",
    "\n",
    "        # Interquartile Range (IQR)\n",
    "        print(f\"\\nInterquartile Range (IQR): {IQR:.4f}\")\n",
    "        print(f\"Lower Bound for Outliers (IQR method): {lower_bound:.4f}\")\n",
    "        print(f\"Upper Bound for Outliers (IQR method): {upper_bound:.4f}\")\n",
    "        print(f\"Number of Outliers (IQR method): {len(outliers_iqr)}\")\n",
    "\n",
    "        # Display outliers based on IQR\n",
    "        #if not outliers_iqr.empty:\n",
    "        #    print(\"\\nOutliers detected using the IQR method:\")\n",
    "        #    print(outliers_iqr)\n",
    "        #else:\n",
    "        #    print(\"\\nNo outliers detected using the IQR method.\")\n",
    "\n",
    "        # Z-scores\n",
    "        print(\"\\nZ-score Summary:\")\n",
    "        print(z_scores.describe())\n",
    "\n",
    "        print(f\"\\nNumber of Outliers (Z-score method): {len(outliers_z)}\")\n",
    "\n",
    "        # Display outliers based on Z-scores\n",
    "        #if not outliers_z.empty:\n",
    "        #    print(\"\\nOutliers detected using the Z-score method:\")\n",
    "        #    print(outliers_z)\n",
    "        #else:\n",
    "        #    print(\"\\nNo outliers detected using the Z-score method.\")\n",
    "\n",
    "        # Skewness\n",
    "        skewness_value = skew(numeric_data)\n",
    "        print(f\"\\nSkewness: {skewness_value:.4f}\")\n",
    "\n",
    "        # Normality Tests\n",
    "        print(\"\\nNormality Tests:\")\n",
    "        # D'Agostino's K^2 Test\n",
    "        k2_stat, k2_p = normaltest(numeric_data)\n",
    "        print(f\"D'Agostino's K^2 Test: Statistic={k2_stat:.4f}, p-value={k2_p:.4f}\")\n",
    "\n",
    "        # Shapiro-Wilk Test\n",
    "        shapiro_stat, shapiro_p = shapiro(numeric_data)\n",
    "        print(f\"Shapiro-Wilk Test: Statistic={shapiro_stat:.4f}, p-value={shapiro_p:.4f}\")\n",
    "\n",
    "        # Anderson-Darling Test\n",
    "        anderson_result = anderson(numeric_data)\n",
    "        print(f\"Anderson-Darling Test: Statistic={anderson_result.statistic:.4f}\")\n",
    "        for i in range(len(anderson_result.critical_values)):\n",
    "            sl, cv = anderson_result.significance_level[i], anderson_result.critical_values[i]\n",
    "            if anderson_result.statistic < cv:\n",
    "                result = \"Accept\"\n",
    "            else:\n",
    "                result = \"Reject\"\n",
    "            print(f\"At {sl}% significance level, critical value: {cv:.4f}, {result} the null hypothesis of normality\")\n",
    "\n",
    "        # Kolmogorov-Smirnov Test against normal distribution\n",
    "        # ks_stat, ks_p = kstest(numeric_data, 'norm', args=(numeric_data.mean(), numeric_data.std()))\n",
    "        # print(f\"Kolmogorov-Smirnov Test: Statistic={ks_stat:.4f}, p-value={ks_p:.4f}\")\n"
   ]
  },
  {
   "cell_type": "markdown",
   "metadata": {},
   "source": [
    "##### Boolean Processing"
   ]
  },
  {
   "cell_type": "code",
   "execution_count": 15,
   "metadata": {},
   "outputs": [],
   "source": [
    "def analyze_boolean_columns(boolean_cols, dataframe):\n",
    "    \"\"\"\n",
    "    Analyze and visualize boolean columns in a DataFrame.\n",
    "\n",
    "    Parameters:\n",
    "    boolean_cols (list): List of boolean column names to analyze.\n",
    "    dataframe (pd.DataFrame): The DataFrame containing the data.\n",
    "    \"\"\"\n",
    "    for column in boolean_cols:\n",
    "        print(f\"\\nSummary Statistics and Analysis for Boolean Column: {column}\")\n",
    "\n",
    "        # Check if the column exists in the DataFrame\n",
    "        if column not in dataframe.columns:\n",
    "            print(f\"Column '{column}' is not found in the DataFrame. Skipping...\")\n",
    "            continue\n",
    "\n",
    "        # Cast the column to boolean in case it contains 1/0 or other non-boolean values\n",
    "        dataframe[column] = dataframe[column].astype(bool)\n",
    "\n",
    "        # Prepare boolean counts\n",
    "        boolean_counts = dataframe[column].value_counts()\n",
    "\n",
    "        # Create a figure with two subplots\n",
    "        fig, axs = plt.subplots(1, 2, figsize=(FIG_WIDTH, FIG_HEIGHT)) # Configured at the beginning of the file for image consistancy\n",
    "\n",
    "        # Bar plot using 'x' parameter\n",
    "        sns.countplot(\n",
    "            x=column,\n",
    "            data=dataframe,\n",
    "            ax=axs[0]\n",
    "        )\n",
    "        axs[0].set_title(f'Boolean Distribution for {column}')\n",
    "        axs[0].set_xlabel(column)\n",
    "        axs[0].set_ylabel('Count')\n",
    "\n",
    "        # Pie chart on the right subplot\n",
    "        boolean_counts.plot.pie(\n",
    "            autopct='%1.1f%%',\n",
    "            ax=axs[1],\n",
    "            startangle=90\n",
    "        )\n",
    "        axs[1].set_title(f'Proportion of True/False for {column}')\n",
    "        axs[1].set_ylabel('')\n",
    "\n",
    "        # Adjust layout to prevent overlap\n",
    "        plt.tight_layout()\n",
    "        plt.show()\n",
    "\n",
    "        # Display summary statistics for boolean data\n",
    "        print(f\"\\nSummary for Boolean Column '{column}':\")\n",
    "        true_count = boolean_counts.get(True, 0)\n",
    "        false_count = boolean_counts.get(False, 0)\n",
    "        total_count = true_count + false_count\n",
    "        true_percentage = (true_count / total_count) * 100 if total_count > 0 else 0\n",
    "\n",
    "        print(f\"Count of True: {true_count}\")\n",
    "        print(f\"Count of False: {false_count}\")\n",
    "        print(f\"Percentage of True: {true_percentage:.2f}%\")\n"
   ]
  },
  {
   "cell_type": "markdown",
   "metadata": {},
   "source": [
    "##### Categorical Processing"
   ]
  },
  {
   "cell_type": "code",
   "execution_count": 16,
   "metadata": {},
   "outputs": [],
   "source": [
    "def analyze_categorical_columns(categorical_cols, dataframe):\n",
    "    \"\"\"\n",
    "    Analyze and visualize categorical columns in a DataFrame.\n",
    "\n",
    "    Parameters:\n",
    "    categorical_cols (list): List of categorical column names to analyze.\n",
    "    dataframe (pd.DataFrame): The DataFrame containing the data.\n",
    "    \"\"\"\n",
    "    for column in categorical_cols:\n",
    "        print(f\"\\nSummary Statistics and Analysis for Categorical Column: {column}\")\n",
    "\n",
    "        # Check if the column exists in the DataFrame\n",
    "        if column not in dataframe.columns:\n",
    "            print(f\"Column '{column}' is not found in the DataFrame. Skipping...\")\n",
    "            continue\n",
    "\n",
    "        # Prepare category counts and percentages\n",
    "        category_counts = dataframe[column].value_counts()\n",
    "        category_percentages = dataframe[column].value_counts(normalize=True) * 100\n",
    "\n",
    "        # Display bar plot and pie chart\n",
    "        fig, axs = plt.subplots(1, 2, figsize=(FIG_WIDTH, FIG_HEIGHT))\n",
    "\n",
    "        # Bar plot using 'x' parameter\n",
    "        sns.countplot(\n",
    "            x=column,\n",
    "            data=dataframe,\n",
    "            ax=axs[0]\n",
    "        )\n",
    "        axs[0].set_title(f'Frequency Distribution for {column} (Categorical Data)')\n",
    "        axs[0].set_xlabel(column)\n",
    "        axs[0].set_ylabel('Frequency')\n",
    "        plt.xticks(rotation=45, ha='right')\n",
    "\n",
    "        # Pie chart on the right subplot\n",
    "        category_counts.plot.pie(\n",
    "            autopct='%1.1f%%',\n",
    "            ax=axs[1],\n",
    "            title=f'Proportion of Categories for {column}',\n",
    "            startangle=90\n",
    "        )\n",
    "        axs[1].set_ylabel('')\n",
    "\n",
    "        # Adjust layout to prevent overlap\n",
    "        plt.tight_layout()\n",
    "        plt.show()\n",
    "\n",
    "        print(f\"\\nFrequency Table for '{column}':\")\n",
    "        freq_table = pd.DataFrame({'Count': category_counts, 'Percentage': category_percentages})\n",
    "        print(freq_table)\n"
   ]
  },
  {
   "cell_type": "code",
   "execution_count": null,
   "metadata": {},
   "outputs": [],
   "source": [
    "# Create lists of data for further analysis\n",
    "boolean_list, numerical_list, categorical_list = split_data_frame(df_dropped, df_dropped) # first input variable is the features we're interested in the second the data frame that contains the values."
   ]
  },
  {
   "cell_type": "markdown",
   "metadata": {},
   "source": [
    "### 01 Data Preparation and Cleaning\n",
    "\n",
    "Perform thorough data cleaning on the provided dataset, including but not limited to the following steps:\n",
    "\n",
    "* Handling missing values (imputation or removal)\n",
    "* Converting data types to appropriate formats\n",
    "* Removing duplicate records\n",
    "* Detecting and handling outliers\n",
    "* Standardizing and normalizing data\n",
    "* Encoding categorical variables\n",
    "* Cleaning and preprocessing string data\n",
    "* Extracting features from date columns"
   ]
  },
  {
   "cell_type": "code",
   "execution_count": null,
   "metadata": {},
   "outputs": [],
   "source": [
    "# Cross table of data types in df\n",
    "dtype_crosstab = df.dtypes.value_counts().reset_index()\n",
    "dtype_crosstab.columns = ['Data Type', 'Count']\n",
    "\n",
    "# Display the cross table\n",
    "dtype_crosstab"
   ]
  },
  {
   "cell_type": "markdown",
   "metadata": {},
   "source": [
    "This calls the split_data_frame function above create three lists to capture the sorting outputs in. \n",
    "\n",
    "These will later be used to pull some graphs to evaluate the data and what possible transformations we've missed.\n"
   ]
  },
  {
   "cell_type": "markdown",
   "metadata": {},
   "source": [
    "#### Handling missing values (imputation or removal)"
   ]
  },
  {
   "cell_type": "markdown",
   "metadata": {},
   "source": [
    "Let's import missingno"
   ]
  },
  {
   "cell_type": "code",
   "execution_count": 19,
   "metadata": {},
   "outputs": [],
   "source": [
    "import missingno as msno"
   ]
  },
  {
   "cell_type": "markdown",
   "metadata": {},
   "source": [
    "Let's check for missing data using missingno"
   ]
  },
  {
   "cell_type": "code",
   "execution_count": null,
   "metadata": {},
   "outputs": [],
   "source": [
    "# Check for missing values in each column\n",
    "missing_values = df_dropped.isnull().sum().sort_values(ascending=False)\n",
    "print(f\"There is a total of: {len(missing_values)} columns that are missing data\\n\")\n",
    "\n",
    "missing_values[missing_values > 0] # Display only columns with missing values > X"
   ]
  },
  {
   "cell_type": "markdown",
   "metadata": {},
   "source": [
    "Looking at our results we can make the assumption that several columns are derivatives or linked in some shape or form to others due to the exact count of missing data."
   ]
  },
  {
   "cell_type": "code",
   "execution_count": null,
   "metadata": {},
   "outputs": [],
   "source": [
    "# Filter for columns with missing values greater than 0\n",
    "missing_values_graph = df_dropped[missing_values[missing_values > 0].index]\n",
    "\n",
    "print(\"Data Missing Values\\n\")\n",
    "\n",
    "# Visualize the missing data using the missingno library\n",
    "msno.heatmap(missing_values_graph)\n",
    "# msno.dendrogram(missing_values_graph) #removed for the final anlysis to avoid cluttering the document with the same data but a different way to show it"
   ]
  },
  {
   "cell_type": "code",
   "execution_count": null,
   "metadata": {},
   "outputs": [],
   "source": [
    "df_dropped['hardship_status'].value_counts()"
   ]
  },
  {
   "cell_type": "markdown",
   "metadata": {},
   "source": [
    "Let's align the wording."
   ]
  },
  {
   "cell_type": "code",
   "execution_count": 23,
   "metadata": {},
   "outputs": [],
   "source": [
    "# Correct references to 'completed' to 'complete' in the 'hardship_status' column\n",
    "df_dropped['hardship_status'] = df_dropped['hardship_status'].replace('COMPLETED', 'COMPLETE')"
   ]
  },
  {
   "cell_type": "code",
   "execution_count": null,
   "metadata": {},
   "outputs": [],
   "source": [
    "df_dropped['hardship_status'].value_counts()"
   ]
  },
  {
   "cell_type": "code",
   "execution_count": null,
   "metadata": {},
   "outputs": [],
   "source": [
    "df_dropped['application_type'].value_counts()"
   ]
  },
  {
   "cell_type": "code",
   "execution_count": null,
   "metadata": {},
   "outputs": [],
   "source": [
    "# Create the 'hardship_existing' column, setting it to 1 if 'hardship_status' is 'active' or 'broken', otherwise 0\n",
    "df_dropped['joint_applicant'] = df_dropped['dti_joint'].apply(lambda x: 1 if x in ['Joint App'] else 0)\n",
    "\n",
    "# Display the first few rows to verify the changes\n",
    "print(df_dropped[['joint_applicant', 'dti_joint']].head())"
   ]
  },
  {
   "cell_type": "markdown",
   "metadata": {},
   "source": [
    "Let's plot our missing data and search for possible correlations."
   ]
  },
  {
   "cell_type": "markdown",
   "metadata": {},
   "source": [
    "##### Missing Data Strategy\n",
    "Instead of dropping columns with a high number of missing values, we may want to retain them for our analysis. \n",
    "\n",
    "Following the logic of Abraham Wald's famous airplane and bullet hole logic, it is beneficial to analyse the data we don't have rather than discard potentially useful data i.e. the absence of one is a indicator in its own right."
   ]
  },
  {
   "attachments": {
    "image.png": {
     "image/png": "[encoded data removed]"
    }
   },
   "cell_type": "markdown",
   "metadata": {},
   "source": [
    "![image.png](attachment:image.png)"
   ]
  },
  {
   "cell_type": "markdown",
   "metadata": {},
   "source": [
    "##### Creating Missing Value Indicators\n",
    "\n",
    "To reiterate instead of dropping columns or rows with missing data, we create missing value indicators for the columns with missing entries that we feel would be good indicators/features for loan application approvals.\n",
    "\n",
    "This means that for each column with missing values, a new binary indicator column is created, where `1` represents a missing value and `0` indicates that a value was present. \n",
    "\n",
    "This approach ensures that we retain as much information as possible from the original dataset while also capturing the fact that missing values themselves may provide valuable insight. For instance, missing income information could be an indicator of a higher default risk and by proxy maybe something that should reduce the score attributed to a client."
   ]
  },
  {
   "cell_type": "markdown",
   "metadata": {},
   "source": [
    "#### Converting data types to appropriate formats"
   ]
  },
  {
   "cell_type": "markdown",
   "metadata": {},
   "source": [
    "Let's start by calling our split_list_function which will create three seperate lists from our data frame which we can then use for our analysis."
   ]
  },
  {
   "cell_type": "code",
   "execution_count": null,
   "metadata": {},
   "outputs": [],
   "source": [
    "# Create lists of data for further analysis\n",
    "boolean_list, numerical_list, categorical_list = split_data_frame(df_dropped, df_dropped) # first input variable is the features we're interested in the second the data frame that contains the values."
   ]
  },
  {
   "cell_type": "markdown",
   "metadata": {},
   "source": [
    "Here we can see that our data contains 3 boolean values. 2 of which we created earlier as markers for active hardship and joint applications."
   ]
  },
  {
   "cell_type": "markdown",
   "metadata": {},
   "source": [
    "Let's explore our categorical values in search of dtypes that we can convert to numercial (int, float) values."
   ]
  },
  {
   "cell_type": "code",
   "execution_count": null,
   "metadata": {},
   "outputs": [],
   "source": [
    "import re\n",
    "\n",
    "# List to store features that contain any numerical values (even within mixed text)\n",
    "categorical_list_with_numerical_values = []\n",
    "\n",
    "# Iterate through each column in categorical_list\n",
    "for column in categorical_list:\n",
    "    # Check if the column contains any values with numerical characters\n",
    "    if df_dropped[column].apply(lambda x: bool(re.search(r'\\d', str(x)))).any():\n",
    "        categorical_list_with_numerical_values.append(column)\n",
    "        print(f\"Column '{column}' contains numerical values.\")"
   ]
  },
  {
   "cell_type": "markdown",
   "metadata": {},
   "source": [
    "This tells us there are potential columns with numercial values that we should evaluate further and potentially convert to int or float values."
   ]
  },
  {
   "cell_type": "code",
   "execution_count": null,
   "metadata": {},
   "outputs": [],
   "source": [
    "df_dropped[categorical_list_with_numerical_values].columns()"
   ]
  },
  {
   "cell_type": "code",
   "execution_count": null,
   "metadata": {},
   "outputs": [],
   "source": [
    "# Creaet a list of values to encode from string to int or float\n",
    "df_dropped[categorical_list_with_numerical_values].head()"
   ]
  },
  {
   "cell_type": "markdown",
   "metadata": {},
   "source": [
    "Before running our graphical analysis let's start by filtering out categorical values with over 20 unique values."
   ]
  },
  {
   "cell_type": "code",
   "execution_count": null,
   "metadata": {},
   "outputs": [],
   "source": [
    "# Define the threshold for unique values\n",
    "threshold = 20\n",
    "\n",
    "# Create a list to store columns that meet the threshold criteria\n",
    "categorical_list_updated = [column for column in categorical_list if df_dropped[column].nunique() < threshold]\n",
    "\n",
    "# Print out the columns and their unique values if needed\n",
    "for column in categorical_list_updated:\n",
    "    unique_values = df_dropped[column].nunique()\n",
    "    print(f\"Column '{column}' has {unique_values} unique values (below threshold).\")"
   ]
  },
  {
   "cell_type": "code",
   "execution_count": null,
   "metadata": {},
   "outputs": [],
   "source": [
    "analyze_categorical_columns(categorical_list_with_numerical_values, df_dropped) # columns features and data frame"
   ]
  },
  {
   "cell_type": "code",
   "execution_count": null,
   "metadata": {},
   "outputs": [],
   "source": [
    "analyze_categorical_columns(categorical_list_updated, df_dropped)"
   ]
  },
  {
   "cell_type": "markdown",
   "metadata": {},
   "source": [
    "##### Convert to float & int\n",
    "\n",
    "- **emp_length**: Convert to a float (create a new feature `emp_length_clean_kn`)\n",
    "- **int_rate**: Convert to a float (create a new feature `int_rate_int_clean_kn`)\n",
    "- **revol_util**: Convert to a float (create a new feature `revol_util_int_clean_kn`)"
   ]
  },
  {
   "cell_type": "markdown",
   "metadata": {},
   "source": [
    "Before making these changes let's create a copy of our df."
   ]
  },
  {
   "cell_type": "markdown",
   "metadata": {},
   "source": [
    "#### Removing Features"
   ]
  },
  {
   "cell_type": "code",
   "execution_count": null,
   "metadata": {},
   "outputs": [],
   "source": [
    "# Remove specified columns from df\n",
    "#df = df.drop(df.columns[[0, 1]], axis=1) # remove by index number, good for quick changes but hard to keep track of edits. Keeping for records.\n",
    "df_dropped = df_dropped.drop(columns=['url', 'zip_code', 'pymnt_plan', 'hardship_type']) # identified in the categorical data analysis\n",
    " \n",
    "# Display the updated DataFrame\n",
    "df_dropped.head()"
   ]
  },
  {
   "cell_type": "markdown",
   "metadata": {},
   "source": [
    "#### String to numerical"
   ]
  },
  {
   "cell_type": "code",
   "execution_count": null,
   "metadata": {},
   "outputs": [],
   "source": [
    "import re\n",
    "\n",
    "# Define the columns that need to be converted from string to integer\n",
    "string_columns_to_convert = ['term', 'emp_length']  # features to replace with int values\n",
    "\n",
    "# Convert each specified column to an integer in a new column\n",
    "for column in string_columns_to_convert:\n",
    "    # Extract numerical part and convert to integer\n",
    "    df_dropped[f\"{column}_int_kn\"] = df_dropped[column].apply(lambda x: int(re.search(r'\\d+', str(x)).group()) if pd.notnull(x) else None)\n",
    "\n",
    "# Drop the original string columns\n",
    "df_dropped.drop(columns=string_columns_to_convert, inplace=True)\n",
    "\n",
    "# Verify the results\n",
    "df_dropped.head()"
   ]
  },
  {
   "cell_type": "markdown",
   "metadata": {},
   "source": [
    "#### Creating logical groups "
   ]
  },
  {
   "cell_type": "code",
   "execution_count": null,
   "metadata": {},
   "outputs": [],
   "source": [
    "# Define the logical groupings for 'loan_status'\n",
    "loan_status_groupings = {\n",
    "    'Fully Paid': 'Completed',\n",
    "    'Current': 'In Progress',\n",
    "    'Charged Off': 'Defaulted',\n",
    "    'Late (31-120 days)': 'Late',\n",
    "    'In Grace Period': 'Late',\n",
    "    'Late (16-30 days)': 'Late',\n",
    "    'Does not meet the credit policy. Status:Fully Paid': 'Completed',\n",
    "    'Issued': 'In Progress',\n",
    "    'Does not meet the credit policy. Status:Charged Off': 'Defaulted',\n",
    "    'Default': 'Defaulted'\n",
    "}\n",
    "\n",
    "# Apply the grouping to the 'loan_status' column\n",
    "df_dropped['loan_status_grouped_kn'] = df_dropped['loan_status'].replace(loan_status_groupings)\n",
    "\n",
    "# Verify the groupings\n",
    "print(df_dropped['loan_status_grouped_kn'].value_counts())\n"
   ]
  },
  {
   "cell_type": "code",
   "execution_count": null,
   "metadata": {},
   "outputs": [],
   "source": [
    "# Define the logical groupings for 'hardship_reason'\n",
    "hardship_reason_groupings = {\n",
    "    'INCOMECURT': 'Job-Related Income Loss',\n",
    "    'UNEMPLOYED': 'Job-Related Income Loss',\n",
    "    'UNEMPLOYMENT': 'Job-Related Income Loss',\n",
    "    'INCOME_CURTAILMENT': 'Job-Related Income Loss',\n",
    "    'REDCDHOURS': 'Job-Related Income Loss',\n",
    "    'REDUCED_HOURS': 'Job-Related Income Loss',\n",
    "    'FURLOUGH': 'Job-Related Income Loss',\n",
    "    'MEDICAL': 'Health and Medical Issues',\n",
    "    'DISABILITY': 'Health and Medical Issues',\n",
    "    'NATURAL_DISASTER': 'Natural or External Events',\n",
    "    'NATDISAST': 'Natural or External Events',\n",
    "    'FINANCIAL': 'Financial Strain',\n",
    "    'EXCESSIVE_OBLIGATIONS': 'Financial Strain',\n",
    "    'EXCESSOBLI': 'Financial Strain',\n",
    "    'DIVORCE': 'Family Circumstances',\n",
    "    'FAMILY_DEATH': 'Family Circumstances',\n",
    "    'DEATH': 'Family Circumstances'\n",
    "}\n",
    "\n",
    "# Apply the grouping to the 'hardship_reason' column\n",
    "df_dropped['hardship_reason_grouped_kn'] = df_dropped['hardship_reason'].replace(hardship_reason_groupings)\n",
    "\n",
    "# Verify the groupings\n",
    "print(df_dropped['hardship_reason_grouped_kn'].value_counts())\n"
   ]
  },
  {
   "cell_type": "code",
   "execution_count": null,
   "metadata": {},
   "outputs": [],
   "source": [
    "# Define the logical groupings for 'hardship_loan_status'\n",
    "hardship_loan_status_groupings = {\n",
    "    'ACTIVE': 'Active or Current',\n",
    "    'GRACE_CURRENT': 'Active or Current',\n",
    "    'Current': 'Active or Current',\n",
    "    'CURRENT': 'Active or Current',\n",
    "    'Late (16-30 days)': 'Late',\n",
    "    'Late (31-120 days)': 'Late',\n",
    "    'In Grace Period': 'Grace Period',\n",
    "    'INCOLLECTION': 'In Collection or Delinquent',\n",
    "    'DELINQUENT': 'In Collection or Delinquent'\n",
    "}\n",
    "\n",
    "# Apply the grouping to the 'hardship_loan_status' column\n",
    "df_dropped['hardship_loan_status_grouped_kn'] = df_dropped['hardship_loan_status'].replace(hardship_loan_status_groupings)\n",
    "\n",
    "# Verify the groupings\n",
    "print(df_dropped['hardship_loan_status_grouped_kn'].value_counts())\n"
   ]
  },
  {
   "cell_type": "markdown",
   "metadata": {},
   "source": [
    "##### Emp_length conversion"
   ]
  },
  {
   "cell_type": "code",
   "execution_count": null,
   "metadata": {},
   "outputs": [],
   "source": [
    "# Extract numerical values from 'emp_length' and convert it to an integer\n",
    "df_dropped['emp_length'] = df_dropped['emp_length'].str.extract(r'(\\d+)').astype(float).fillna(0).astype(int)"
   ]
  },
  {
   "cell_type": "markdown",
   "metadata": {},
   "source": [
    "#### Removing duplicate records"
   ]
  },
  {
   "cell_type": "code",
   "execution_count": null,
   "metadata": {},
   "outputs": [],
   "source": []
  },
  {
   "cell_type": "markdown",
   "metadata": {},
   "source": [
    "#### Detecting and handling outliers\n",
    "\n",
    "Let's run our numerical data analysis."
   ]
  },
  {
   "cell_type": "code",
   "execution_count": null,
   "metadata": {},
   "outputs": [],
   "source": []
  },
  {
   "cell_type": "markdown",
   "metadata": {},
   "source": [
    "#### Standardising and normalising data"
   ]
  },
  {
   "cell_type": "code",
   "execution_count": null,
   "metadata": {},
   "outputs": [],
   "source": []
  },
  {
   "cell_type": "markdown",
   "metadata": {},
   "source": [
    "#### Encoding categorical variables\n",
    "\n",
    "Let's inspect our categorical data for encoding opportunities. Let's check for categorical data with numerical values these are candidates for int and float transformations."
   ]
  },
  {
   "cell_type": "markdown",
   "metadata": {},
   "source": [
    "#### Cleaning and preprocessing string data"
   ]
  },
  {
   "cell_type": "markdown",
   "metadata": {},
   "source": [
    "Let's check for multicollinenearity"
   ]
  },
  {
   "cell_type": "code",
   "execution_count": null,
   "metadata": {},
   "outputs": [],
   "source": [
    "# Calculate the correlation matrix for numerical columns\n",
    "corr_matrix = df_dropped[numerical_list].corr().abs()\n",
    "\n",
    "# Set the threshold for high correlation\n",
    "threshold = 0.90\n",
    "\n",
    "# Find pairs of features with correlation greater than the threshold\n",
    "high_corr_pairs = np.where(corr_matrix > threshold)\n",
    "high_corr_pairs = [(corr_matrix.index[x], corr_matrix.columns[y])\n",
    "                   for x, y in zip(*high_corr_pairs) if x != y and x < y]\n",
    "\n",
    "# Display the pairs with high correlation\n",
    "for pair in high_corr_pairs:\n",
    "    print(f\"Correlation between {pair[0]} and {pair[1]}: {corr_matrix.loc[pair[0], pair[1]]:.2f}\")"
   ]
  },
  {
   "cell_type": "code",
   "execution_count": null,
   "metadata": {},
   "outputs": [],
   "source": []
  },
  {
   "cell_type": "markdown",
   "metadata": {},
   "source": [
    "#### Extracting features from date columns using RFE"
   ]
  },
  {
   "cell_type": "code",
   "execution_count": null,
   "metadata": {},
   "outputs": [],
   "source": []
  },
  {
   "cell_type": "markdown",
   "metadata": {},
   "source": [
    "#### Preliminary Data Feature selection"
   ]
  },
  {
   "cell_type": "markdown",
   "metadata": {},
   "source": [
    "## 02 Exploratory Data Analysis\n",
    "\n",
    "Conduct an in-depth analysis of the dataset with a focus on the target variable. The analysis should include:\n",
    "\n",
    "* Exploring the distribution, symmetry, and potential issues with the target variable.\n",
    "* Using visualization techniques (e.g., histograms, box plots, scatter plots) and statistical analysis to explore relationships between the target variable and independent variables.\n",
    "* Identifying important variables with predictive relevance.\n",
    "* Determining which variables or levels can be excluded.\n",
    "* Identifying variables with outliers and applying transformations if necessary.\n",
    "* Handling missing values and explaining the chosen treatment.\n",
    "* Examining interrelationships between independent variables and considering transformations.\n",
    "* Assessing class balance and addressing any imbalance if needed.\n",
    "* Summarizing insights and plans to leverage the information.\n",
    "\n",
    "Our Target variable is `loan_approval_score`"
   ]
  },
  {
   "cell_type": "code",
   "execution_count": null,
   "metadata": {},
   "outputs": [],
   "source": [
    "df_dropped['loan_approval_score'] = []"
   ]
  },
  {
   "cell_type": "markdown",
   "metadata": {},
   "source": [
    "#### Exploring the Distribution, Symmetry, and Potential Issues with the Target Variable"
   ]
  },
  {
   "cell_type": "code",
   "execution_count": null,
   "metadata": {},
   "outputs": [],
   "source": []
  },
  {
   "cell_type": "markdown",
   "metadata": {},
   "source": [
    "#### Using Visualization Techniques to Explore Relationships Between the Target Variable and Independent Variables"
   ]
  },
  {
   "cell_type": "code",
   "execution_count": null,
   "metadata": {},
   "outputs": [],
   "source": []
  },
  {
   "cell_type": "markdown",
   "metadata": {},
   "source": [
    "#### Identifying Important Variables with Predictive Relevance (RFE)"
   ]
  },
  {
   "cell_type": "code",
   "execution_count": null,
   "metadata": {},
   "outputs": [],
   "source": []
  },
  {
   "cell_type": "markdown",
   "metadata": {},
   "source": [
    "#### Determining Which Variables or Levels Can Be Excluded"
   ]
  },
  {
   "cell_type": "code",
   "execution_count": null,
   "metadata": {},
   "outputs": [],
   "source": []
  },
  {
   "cell_type": "markdown",
   "metadata": {},
   "source": [
    "#### Identifying Variables with Outliers and Applying Transformations if Necessary"
   ]
  },
  {
   "cell_type": "code",
   "execution_count": null,
   "metadata": {},
   "outputs": [],
   "source": []
  },
  {
   "cell_type": "markdown",
   "metadata": {},
   "source": [
    "#### Handling Missing Values and Explaining the Chosen Treatment"
   ]
  },
  {
   "cell_type": "code",
   "execution_count": null,
   "metadata": {},
   "outputs": [],
   "source": []
  },
  {
   "cell_type": "markdown",
   "metadata": {},
   "source": [
    "#### Examining Interrelationships Between Independent Variables and Considering Transformations"
   ]
  },
  {
   "cell_type": "code",
   "execution_count": null,
   "metadata": {},
   "outputs": [],
   "source": []
  },
  {
   "cell_type": "markdown",
   "metadata": {},
   "source": [
    "#### Assessing Class Balance and Addressing Any Imbalance if Needed"
   ]
  },
  {
   "cell_type": "code",
   "execution_count": null,
   "metadata": {},
   "outputs": [],
   "source": []
  },
  {
   "cell_type": "markdown",
   "metadata": {},
   "source": [
    "#### Summarizing Insights and Plans to Leverage the Information"
   ]
  },
  {
   "cell_type": "code",
   "execution_count": null,
   "metadata": {},
   "outputs": [],
   "source": []
  },
  {
   "cell_type": "markdown",
   "metadata": {},
   "source": [
    "### 03 Modelling\n",
    "\n",
    "Recommend and justify a model to predict class membership of loan applications. The modeling phase should include:\n",
    "\n",
    "* Selecting a baseline model for comparison.\n",
    "* Recommending a challenger model with a detailed justification.\n",
    "* Describing all data preprocessing steps and measurement of accuracy.\n",
    "* Choosing appropriate models and evaluation metrics.\n",
    "* Explaining the choice of models, preprocessing methods, and accuracy metrics."
   ]
  },
  {
   "cell_type": "code",
   "execution_count": null,
   "metadata": {},
   "outputs": [],
   "source": []
  },
  {
   "cell_type": "markdown",
   "metadata": {},
   "source": [
    "### 04 Optional - Real-time scoring application\n",
    "\n",
    "Build a \"real-time\" application that can score new loan application observations. The implementation details are at the consultant's discretion."
   ]
  },
  {
   "cell_type": "markdown",
   "metadata": {},
   "source": []
  }
 ],
 "metadata": {
  "kernelspec": {
   "display_name": "Python 3",
   "language": "python",
   "name": "python3"
  },
  "language_info": {
   "codemirror_mode": {
    "name": "ipython",
    "version": 3
   },
   "file_extension": ".py",
   "mimetype": "text/x-python",
   "name": "python",
   "nbconvert_exporter": "python",
   "pygments_lexer": "ipython3",
   "version": "3.12.6"
  }
 },
 "nbformat": 4,
 "nbformat_minor": 2
}
